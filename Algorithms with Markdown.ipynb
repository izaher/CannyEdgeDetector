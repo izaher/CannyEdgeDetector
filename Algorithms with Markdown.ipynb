{
 "cells": [
  {
   "cell_type": "markdown",
   "metadata": {},
   "source": [
    "## Defining the Gaussian filter based on the size of Sigma(Standard Deviation)\n",
    "<img src=\"markdown/gaussian.png\">\n",
    "\n",
    "### Reducing noise"
   ]
  },
  {
   "cell_type": "code",
   "execution_count": null,
   "metadata": {},
   "outputs": [],
   "source": [
    "    def gaussian_kernel(self, size, sigma=1):\n",
    "        size = int(size) // 2\n",
    "        x, y = np.mgrid[-size:size+1, -size:size+1]\n",
    "        normal = 1 / (2.0 * np.pi * sigma**2)\n",
    "        g =  np.exp(-((x**2 + y**2) / (2.0*sigma**2))) * normal\n",
    "        return g"
   ]
  },
  {
   "cell_type": "markdown",
   "metadata": {},
   "source": [
    "## Sobel Filter (Edge Detection)\n",
    "#### Find the regions with sharp change in intensity or color in the image\n",
    "#### Two seperate filters for the X & Y directions\n",
    "<img src=\"markdown/sobel_filters.png\">\n",
    "\n",
    "##### Find The magnitude of the gradient and the angle of the edge\n",
    "<img src=\"markdown/gradient.png\">"
   ]
  },
  {
   "cell_type": "code",
   "execution_count": null,
   "metadata": {},
   "outputs": [],
   "source": [
    "     def sobel_filters(self, img):\n",
    "            Kx = np.array([[-1, 0, 1], [-2, 0, 2], [-1, 0, 1]], np.float32)\n",
    "            Ky = np.array([[1, 2, 1], [0, 0, 0], [-1, -2, -1]], np.float32)\n",
    "\n",
    "            Ix = ndimage.filters.convolve(img, Kx)\n",
    "            Iy = ndimage.filters.convolve(img, Ky)\n",
    "\n",
    "            G = np.hypot(Ix, Iy)\n",
    "            G = G / G.max() * 255\n",
    "            theta = np.arctan2(Iy, Ix)\n",
    "            return (G, theta)"
   ]
  },
  {
   "cell_type": "markdown",
   "metadata": {},
   "source": [
    "# Canny Edge Detection\n",
    "### Thinning the edge to 1 px by supressing non-max values\n",
    "#### For ever pixel, find out if it's a local maxima considering the orientation of the edge (find if x bigger than it's neighbors across the edge), then create a thin edge in the center of the gradient\n",
    "<img src=\"markdown/non-max.png\">\n"
   ]
  },
  {
   "cell_type": "code",
   "execution_count": null,
   "metadata": {},
   "outputs": [],
   "source": [
    "    def non_max_suppression(self, img, D):\n",
    "            M, N = img.shape\n",
    "            Z = np.zeros((M,N), dtype=np.int32)\n",
    "            angle = D * 180. / np.pi\n",
    "            angle[angle < 0] += 180\n",
    "\n",
    "\n",
    "            for i in range(1,M-1):\n",
    "                for j in range(1,N-1):\n",
    "                    try:\n",
    "                        q = 255\n",
    "                        r = 255\n",
    "\n",
    "                       #angle 0\n",
    "                        if (0 <= angle[i,j] < 22.5) or (157.5 <= angle[i,j] <= 180):\n",
    "                            q = img[i, j+1]\n",
    "                            r = img[i, j-1]\n",
    "                        #angle 45\n",
    "                        elif (22.5 <= angle[i,j] < 67.5):\n",
    "                            q = img[i+1, j-1]\n",
    "                            r = img[i-1, j+1]\n",
    "                        #angle 90\n",
    "                        elif (67.5 <= angle[i,j] < 112.5):\n",
    "                            q = img[i+1, j]\n",
    "                            r = img[i-1, j]\n",
    "                        #angle 135\n",
    "                        elif (112.5 <= angle[i,j] < 157.5):\n",
    "                            q = img[i-1, j-1]\n",
    "                            r = img[i+1, j+1]\n",
    "\n",
    "                        if (img[i,j] >= q) and (img[i,j] >= r):\n",
    "                            Z[i,j] = img[i,j]\n",
    "                        else:\n",
    "                            Z[i,j] = 0\n",
    "\n",
    "\n",
    "                    except IndexError as e:\n",
    "                        pass\n",
    "\n",
    "            return Z"
   ]
  },
  {
   "cell_type": "markdown",
   "metadata": {},
   "source": [
    "## Hysteresis Thresholding\n",
    "#### keeping only the dominant edges by removing the weak respnses from the non-max supressor (mostly noise)\n",
    "#### Define a high threshold and a low threshold, if the edge > the high threshold it'll be kept (strong edge). if the edge < the low threshold it'll be disregarded(weak edge). If the edge falls between the high and the low (High > edge > Low) it'll only be kept if it's connected to a strong edge.\n",
    "\n",
    "<img src='markdown/Hysteresis.png'>\n",
    "\n",
    "A is kept since it's higher than the high threshold\n",
    "\n",
    "D is disregarded since it's lower than the low threshold\n",
    "\n",
    "C is kept since it's connected to B\n",
    "\n",
    "E is disregarded since it's not connected to a strong edge"
   ]
  },
  {
   "cell_type": "code",
   "execution_count": null,
   "metadata": {},
   "outputs": [],
   "source": [
    "    def threshold(self, img):\n",
    "\n",
    "        highThreshold = img.max() * self.highThreshold;\n",
    "        lowThreshold = highThreshold * self.lowThreshold;\n",
    "\n",
    "        M, N = img.shape\n",
    "        res = np.zeros((M,N), dtype=np.int32)\n",
    "\n",
    "        weak = np.int32(self.weak_pixel)\n",
    "        strong = np.int32(self.strong_pixel)\n",
    "\n",
    "        strong_i, strong_j = np.where(img >= highThreshold)\n",
    "        zeros_i, zeros_j = np.where(img < lowThreshold)\n",
    "\n",
    "        weak_i, weak_j = np.where((img <= highThreshold) & (img >= lowThreshold))\n",
    "\n",
    "        res[strong_i, strong_j] = strong\n",
    "        res[weak_i, weak_j] = weak\n",
    "\n",
    "        return (res)\n",
    "\n",
    "    def hysteresis(self, img):\n",
    "\n",
    "        M, N = img.shape\n",
    "        weak = self.weak_pixel\n",
    "        strong = self.strong_pixel\n",
    "\n",
    "        for i in range(1, M-1):\n",
    "            for j in range(1, N-1):\n",
    "                if (img[i,j] == weak):\n",
    "                    try:\n",
    "                        if ((img[i+1, j-1] == strong) or (img[i+1, j] == strong) or (img[i+1, j+1] == strong)\n",
    "                            or (img[i, j-1] == strong) or (img[i, j+1] == strong)\n",
    "                            or (img[i-1, j-1] == strong) or (img[i-1, j] == strong) or (img[i-1, j+1] == strong)):\n",
    "                            img[i, j] = strong\n",
    "                        else:\n",
    "                            img[i, j] = 0\n",
    "                    except IndexError as e:\n",
    "                        pass\n",
    "\n",
    "        return img"
   ]
  }
 ],
 "metadata": {
  "kernelspec": {
   "display_name": "Python 3",
   "language": "python",
   "name": "python3"
  },
  "language_info": {
   "codemirror_mode": {
    "name": "ipython",
    "version": 3
   },
   "file_extension": ".py",
   "mimetype": "text/x-python",
   "name": "python",
   "nbconvert_exporter": "python",
   "pygments_lexer": "ipython3",
   "version": "3.7.6"
  }
 },
 "nbformat": 4,
 "nbformat_minor": 4
}
